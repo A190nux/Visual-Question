{
  "nbformat": 4,
  "nbformat_minor": 0,
  "metadata": {
    "colab": {
      "provenance": []
    },
    "kernelspec": {
      "display_name": "Python 3",
      "name": "python3"
    }
  },
  "cells": [
    {
      "cell_type": "code",
      "metadata": {
        "id": "a_8A6MMovziX"
      },
      "source": [
        "import torch\n",
        "import torch.nn as nn\n",
        "import torch.nn.functional as F\n",
        "import torchvision\n",
        "import numpy as np\n",
        "import cv2\n",
        "import matplotlib.pyplot as plt\n",
        "from sklearn import metrics\n",
        "from torch.autograd import Variable\n",
        "import os\n",
        "from sklearn.model_selection import train_test_split\n",
        "from torch.utils.data import Dataset, DataLoader\n",
        "import torch.optim as optim"
      ],
      "execution_count": null,
      "outputs": []
    },
    {
      "cell_type": "code",
      "metadata": {
        "colab": {
          "base_uri": "https://localhost:8080/"
        },
        "id": "j6EEGEcMwJpU",
        "outputId": "c41d588a-9332-4e9a-8b72-aa07053da286"
      },
      "source": [
        "from google.colab import drive\n",
        "drive.mount('/content/drive')"
      ],
      "execution_count": null,
      "outputs": [
        {
          "output_type": "stream",
          "text": [
            "Mounted at /content/drive\n"
          ],
          "name": "stdout"
        }
      ]
    },
    {
      "cell_type": "markdown",
      "metadata": {
        "id": "Coc6OfjC0GY5"
      },
      "source": [
        "# data preparation "
      ]
    },
    {
      "cell_type": "code",
      "metadata": {
        "colab": {
          "base_uri": "https://localhost:8080/"
        },
        "id": "f-7NOTpgwgM8",
        "outputId": "9019c796-bc7d-4f83-effa-d02cb9d7cd59"
      },
      "source": [
        "%cd /content/drive/MyDrive/MNSIT"
      ],
      "execution_count": null,
      "outputs": [
        {
          "output_type": "stream",
          "text": [
            "/content/drive/MyDrive/MNSIT\n"
          ],
          "name": "stdout"
        }
      ]
    },
    {
      "cell_type": "code",
      "metadata": {
        "colab": {
          "base_uri": "https://localhost:8080/",
          "height": 35
        },
        "id": "lG9g5GppxYxp",
        "outputId": "d0fc8f41-7286-4521-ff2a-108c430aaefa"
      },
      "source": [
        "%pwd"
      ],
      "execution_count": null,
      "outputs": [
        {
          "output_type": "execute_result",
          "data": {
            "application/vnd.google.colaboratory.intrinsic+json": {
              "type": "string"
            },
            "text/plain": [
              "'/content/drive/MyDrive/MNSIT'"
            ]
          },
          "metadata": {
            "tags": []
          },
          "execution_count": 8
        }
      ]
    },
    {
      "cell_type": "code",
      "metadata": {
        "id": "rv8Aq8BZxZZ4"
      },
      "source": [
        "!unzip archive.zip"
      ],
      "execution_count": null,
      "outputs": []
    },
    {
      "cell_type": "code",
      "metadata": {
        "id": "mP83gjWr1Xso"
      },
      "source": [
        "os.chdir(\"trainingSet\")"
      ],
      "execution_count": null,
      "outputs": []
    },
    {
      "cell_type": "code",
      "metadata": {
        "id": "C9Boj8_kyM-W"
      },
      "source": [
        "data = []\n",
        "labels = []\n",
        "ls=os.listdir()\n",
        "for dir in ls:\n",
        "  os.chdir(dir)\n",
        "  currentDir = os.getcwd()\n",
        "  images = os.listdir()\n",
        "  paths = [os.path.abspath(path) for path in images ]\n",
        "  data = data + paths\n",
        "  labels = labels +  len(paths)*[dir]\n",
        "  os.chdir(\"..\")\n",
        "\n",
        "\n",
        "\n"
      ],
      "execution_count": null,
      "outputs": []
    },
    {
      "cell_type": "code",
      "metadata": {
        "id": "TscVjIEe8gkX"
      },
      "source": [],
      "execution_count": null,
      "outputs": []
    },
    {
      "cell_type": "markdown",
      "metadata": {
        "id": "Y43XHbKhz6OW"
      },
      "source": [
        "# split data (train, val, test)"
      ]
    },
    {
      "cell_type": "code",
      "metadata": {
        "id": "-0GMyeg5z4xn"
      },
      "source": [
        " X_train, X_test, y_train, y_test = train_test_split(data, labels, test_size=0.2, random_state=1 , stratify = labels)"
      ],
      "execution_count": null,
      "outputs": []
    },
    {
      "cell_type": "markdown",
      "metadata": {
        "id": "J2sSyvyp0Ar9"
      },
      "source": [
        "# data loader"
      ]
    },
    {
      "cell_type": "code",
      "metadata": {
        "colab": {
          "base_uri": "https://localhost:8080/"
        },
        "id": "FU84pVtjJ0b9",
        "outputId": "90819de4-d3ba-4ccd-951c-b1ef74becec9"
      },
      "source": [
        "image = cv2.imread(\"/content/drive/MyDrive/MNSIT/trainingSet/trainingSet/0/img_1.jpg\",0)\n",
        "image.shape\n",
        "image=image.reshape((1,28,28))\n",
        "image.shape"
      ],
      "execution_count": null,
      "outputs": [
        {
          "output_type": "execute_result",
          "data": {
            "text/plain": [
              "(1, 28, 28)"
            ]
          },
          "metadata": {
            "tags": []
          },
          "execution_count": 131
        }
      ]
    },
    {
      "cell_type": "code",
      "metadata": {
        "id": "AEyUGb5K0CuZ"
      },
      "source": [
        "class myDataset(Dataset):\n",
        "  def __init__(self, array,label):\n",
        "    self.array = array\n",
        "    self.label = label\n",
        "      # stuff\n",
        "      \n",
        "  def __getitem__(self, index):\n",
        "      # stuff\n",
        "      image = cv2.imread(self.array[index],0)\n",
        "      image=image.reshape((1,28,28))\n",
        "        \n",
        "      return torch.tensor(image).float(), torch.tensor(int(self.label[index]))\n",
        "\n",
        "  def __len__(self):\n",
        "      return len(self.array) # of how many examples(images?) you have"
      ],
      "execution_count": null,
      "outputs": []
    },
    {
      "cell_type": "code",
      "metadata": {
        "id": "IwJUJSIa0EVL"
      },
      "source": [
        "customDataset=myDataset(X_train,y_train)"
      ],
      "execution_count": null,
      "outputs": []
    },
    {
      "cell_type": "code",
      "metadata": {
        "id": "PTEOzvge_Fov"
      },
      "source": [
        "train_dataloader = DataLoader(customDataset, batch_size=4,\n",
        "                        shuffle=True, num_workers=0)"
      ],
      "execution_count": null,
      "outputs": []
    },
    {
      "cell_type": "markdown",
      "metadata": {
        "id": "0sNvDGfu0Dmr"
      },
      "source": [
        "#Model"
      ]
    },
    {
      "cell_type": "code",
      "metadata": {
        "id": "cyHApPyl_nYx"
      },
      "source": [
        "class Model(nn.Module):\n",
        "    def __init__(self):\n",
        "        super(Model, self).__init__()\n",
        "        self.conv1 = nn.Conv2d(1, 32, 3, 1)\n",
        "        self.conv2 = nn.Conv2d(32, 64, 3, 1)\n",
        "        self.dropout1 = nn.Dropout(0.25)\n",
        "        self.dropout2 = nn.Dropout(0.5)\n",
        "        self.fc1 = nn.Linear(9216, 128)\n",
        "        self.fc2 = nn.Linear(128, 10)\n",
        "\n",
        "    def forward(self, x):\n",
        "        x = self.conv1(x)\n",
        "        x = F.relu(x)\n",
        "        x = self.conv2(x)\n",
        "        x = F.relu(x)\n",
        "        x = F.max_pool2d(x, 2)\n",
        "        x = self.dropout1(x)\n",
        "        x = torch.flatten(x, 1)\n",
        "        x = self.fc1(x)\n",
        "        x = F.relu(x)\n",
        "        x = self.dropout2(x)\n",
        "        x = self.fc2(x)\n",
        "        output = F.log_softmax(x, dim=1)\n",
        "        return output"
      ],
      "execution_count": null,
      "outputs": []
    },
    {
      "cell_type": "markdown",
      "metadata": {
        "id": "pxI9Ro-xDMxZ"
      },
      "source": [
        "training loop"
      ]
    },
    {
      "cell_type": "code",
      "metadata": {
        "id": "bj1LtBkZDoeK"
      },
      "source": [
        "def run_model(model,dataloader, optimizer,train = True ):\n",
        "  if train:\n",
        "    model.train()\n",
        "  \n",
        "  pred = []\n",
        "  labels = []\n",
        "  loss = nn.CrossEntropyLoss()\n",
        "  total_loss = 0\n",
        "  for (data, label) in dataloader:\n",
        "       \n",
        "        optimizer.zero_grad()\n",
        "        output = model(data)\n",
        "        loss_ = loss(output, label)\n",
        "        total_loss += loss_.item()\n",
        "        loss_.backward()\n",
        "        optimizer.step()\n",
        "        pred += output.tolist()\n",
        "        labels += label.tolist()\n",
        "        # print(total_loss)\n",
        "\n",
        "  return labels,pred,total_loss/len(dataloader)\n",
        "\n",
        "\n",
        "\n"
      ],
      "execution_count": null,
      "outputs": []
    },
    {
      "cell_type": "code",
      "metadata": {
        "colab": {
          "background_save": true,
          "base_uri": "https://localhost:8080/"
        },
        "id": "gyRRf0L1DLJ9",
        "outputId": "09474eca-01bb-4f96-cbde-b8475a9cd9a0"
      },
      "source": [
        "model=Model()\n",
        "epoch = 20\n",
        "\n",
        "optimizer = torch.optim.Adam(model.parameters(), 0.00001, weight_decay=.01)\n",
        "scheduler = torch.optim.lr_scheduler.ReduceLROnPlateau(optimizer, patience=5, factor=.3, threshold=1e-4)\n",
        "\n",
        "for e in range(epoch):\n",
        "  labels,pred,loss=run_model(model,train_dataloader,optimizer)\n",
        "  \n",
        "  # calculate acc, f1 score, recall ......\n",
        "  print(loss)\n",
        "\n"
      ],
      "execution_count": null,
      "outputs": [
        {
          "output_type": "stream",
          "text": [
            "0.8670488479323784\n",
            "0.2687784488530867\n",
            "0.16117435325678\n",
            "0.11259697663530888\n",
            "0.09124504238301638\n",
            "0.07262077748727974\n",
            "0.061590728874229596\n",
            "0.05545153024944203\n",
            "0.05095623431328773\n",
            "0.045827946594519824\n",
            "0.04278914659446143\n",
            "0.04051314480502065\n",
            "0.03756986576649263\n",
            "0.03480154022199093\n",
            "0.03421243987500032\n",
            "0.033969776289936936\n",
            "0.032344872248433965\n",
            "0.030693142195884763\n",
            "0.030227340200315953\n",
            "0.029524272861912663\n"
          ],
          "name": "stdout"
        }
      ]
    },
    {
      "cell_type": "code",
      "metadata": {
        "id": "oMiKOC1TFtQ0"
      },
      "source": [],
      "execution_count": null,
      "outputs": []
    }
  ]
}